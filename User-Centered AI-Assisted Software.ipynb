{
 "cells": [
  {
   "cell_type": "code",
   "execution_count": 8,
   "id": "eeec4a50",
   "metadata": {},
   "outputs": [
    {
     "name": "stderr",
     "output_type": "stream",
     "text": [
      "C:\\Users\\sheel\\anaconda3\\Lib\\site-packages\\sklearn\\cluster\\_kmeans.py:870: FutureWarning: The default value of `n_init` will change from 10 to 'auto' in 1.4. Set the value of `n_init` explicitly to suppress the warning\n",
      "  warnings.warn(\n",
      "C:\\Users\\sheel\\anaconda3\\Lib\\site-packages\\sklearn\\cluster\\_kmeans.py:870: FutureWarning: The default value of `n_init` will change from 10 to 'auto' in 1.4. Set the value of `n_init` explicitly to suppress the warning\n",
      "  warnings.warn(\n"
     ]
    },
    {
     "name": "stdout",
     "output_type": "stream",
     "text": [
      "\n",
      "User Feedback Analysis:\n",
      "Feedback 1: The interface is confusing and hard to navigate. (Sentiment Score: -0.3182)\n",
      "Feedback 2: I like the color scheme, but the buttons are too small. (Sentiment Score: 0.1901)\n",
      "Feedback 3: The search feature is very helpful and fast. (Sentiment Score: 0.4754)\n",
      "Feedback 4: It would be great to have a tutorial for new users. (Sentiment Score: 0.6249)\n",
      "Feedback 5: The login process is too complicated and time-consuming. (Sentiment Score: 0.0)\n",
      "Feedback 6: I wish there were more customization options. (Sentiment Score: 0.4019)\n",
      "Feedback 7: Overall, the software is easy to use and intuitive. (Sentiment Score: 0.4404)\n",
      "\n",
      "Clustered Feedback Analysis:\n",
      "\n",
      "Cluster 1 Feedback:\n",
      "3    It would be great to have a tutorial for new u...\n",
      "5        I wish there were more customization options.\n",
      "Name: Feedback, dtype: object\n",
      "Average Sentiment Score: 0.5134\n",
      "\n",
      "Cluster 2 Feedback:\n",
      "0     The interface is confusing and hard to navigate.\n",
      "1    I like the color scheme, but the buttons are t...\n",
      "2         The search feature is very helpful and fast.\n",
      "4    The login process is too complicated and time-...\n",
      "6    Overall, the software is easy to use and intui...\n",
      "Name: Feedback, dtype: object\n",
      "Average Sentiment Score: 0.15754\n",
      "\n",
      "Design Recommendations:\n",
      "Cluster 1: Improve navigation and clarity in the interface.\n",
      "Cluster 2: Enhance button size for better usability.\n"
     ]
    }
   ],
   "source": [
    "# Required Libraries\n",
    "import pandas as pd  # For data manipulation\n",
    "from sklearn.feature_extraction.text import TfidfVectorizer  # For text processing\n",
    "from sklearn.cluster import KMeans  # For clustering user feedback\n",
    "from sklearn.metrics import silhouette_score  # For evaluating clustering performance\n",
    "import nltk  # Natural Language Toolkit\n",
    "from nltk.sentiment import SentimentIntensityAnalyzer  # For sentiment analysis\n",
    "\n",
    "# Sample User Feedback Data\n",
    "user_feedback = [\n",
    "    \"The interface is confusing and hard to navigate.\",\n",
    "    \"I like the color scheme, but the buttons are too small.\",\n",
    "    \"The search feature is very helpful and fast.\",\n",
    "    \"It would be great to have a tutorial for new users.\",\n",
    "    \"The login process is too complicated and time-consuming.\",\n",
    "    \"I wish there were more customization options.\",\n",
    "    \"Overall, the software is easy to use and intuitive.\"\n",
    "]\n",
    "\n",
    "# Step 1: Text Preprocessing\n",
    "# Convert user feedback to numerical vectors using TF-IDF\n",
    "vectorizer = TfidfVectorizer()\n",
    "feedback_vectors = vectorizer.fit_transform(user_feedback)\n",
    "\n",
    "# Step 2: Clustering User Feedback\n",
    "# Determine optimal number of clusters using silhouette score\n",
    "unique_labels = len(set(cluster_labels))  # Number of unique cluster labels\n",
    "best_score = -1\n",
    "best_num_clusters = min(6, unique_labels)  # Adjusted range based on unique labels\n",
    "for num_clusters in range(2, best_num_clusters + 1):\n",
    "    kmeans = KMeans(n_clusters=num_clusters, random_state=42)\n",
    "    cluster_labels = kmeans.fit_predict(feedback_vectors)\n",
    "    silhouette_avg = silhouette_score(feedback_vectors, cluster_labels)\n",
    "    if silhouette_avg > best_score:\n",
    "        best_score = silhouette_avg\n",
    "        best_num_clusters = num_clusters\n",
    "\n",
    "\n",
    "# Cluster user feedback using optimal number of clusters\n",
    "kmeans = KMeans(n_clusters=best_num_clusters, random_state=42)\n",
    "cluster_labels = kmeans.fit_predict(feedback_vectors)\n",
    "\n",
    "# Step 3: Analyze Clusters and Generate Design Recommendations\n",
    "clustered_feedback = pd.DataFrame({'Feedback': user_feedback, 'Cluster': cluster_labels})\n",
    "\n",
    "# Sentiment Analysis\n",
    "sid = SentimentIntensityAnalyzer()\n",
    "\n",
    "print(\"\\nUser Feedback Analysis:\")\n",
    "for idx, feedback in enumerate(user_feedback):\n",
    "    sentiment_score = sid.polarity_scores(feedback)['compound']\n",
    "    print(f\"Feedback {idx + 1}: {feedback} (Sentiment Score: {sentiment_score})\")\n",
    "\n",
    "print(\"\\nClustered Feedback Analysis:\")\n",
    "for cluster_id in range(best_num_clusters):\n",
    "    cluster_data = clustered_feedback[clustered_feedback['Cluster'] == cluster_id]['Feedback']\n",
    "    cluster_sentiments = [sid.polarity_scores(feedback)['compound'] for feedback in cluster_data]\n",
    "    avg_sentiment = sum(cluster_sentiments) / len(cluster_sentiments)\n",
    "    print(f\"\\nCluster {cluster_id + 1} Feedback:\")\n",
    "    print(cluster_data)\n",
    "    print(f\"Average Sentiment Score: {avg_sentiment}\")\n",
    "\n",
    "# Example of Design Recommendations (based on cluster analysis)\n",
    "recommendations = {\n",
    "    0: \"Improve navigation and clarity in the interface.\",\n",
    "    1: \"Enhance button size for better usability.\",\n",
    "    2: \"Highlight and promote the search feature.\",\n",
    "    3: \"Develop a user tutorial for onboarding.\",\n",
    "    4: \"Simplify the login process.\",\n",
    "    5: \"Add more customization options.\",\n",
    "    6: \"Maintain overall ease of use and intuitiveness.\"\n",
    "}\n",
    "\n",
    "print(\"\\nDesign Recommendations:\")\n",
    "for cluster_id in range(best_num_clusters):\n",
    "    if cluster_id in recommendations:\n",
    "        print(f\"Cluster {cluster_id + 1}: {recommendations[cluster_id]}\")\n",
    "\n"
   ]
  },
  {
   "cell_type": "code",
   "execution_count": 7,
   "id": "b343b3e7",
   "metadata": {},
   "outputs": [
    {
     "name": "stderr",
     "output_type": "stream",
     "text": [
      "[nltk_data] Downloading package vader_lexicon to\n",
      "[nltk_data]     C:\\Users\\sheel\\AppData\\Roaming\\nltk_data...\n",
      "[nltk_data]   Package vader_lexicon is already up-to-date!\n"
     ]
    },
    {
     "data": {
      "text/plain": [
       "True"
      ]
     },
     "execution_count": 7,
     "metadata": {},
     "output_type": "execute_result"
    }
   ],
   "source": [
    "import nltk\n",
    "nltk.download('vader_lexicon')\n"
   ]
  },
  {
   "cell_type": "code",
   "execution_count": null,
   "id": "f2d075d5",
   "metadata": {},
   "outputs": [],
   "source": []
  },
  {
   "cell_type": "code",
   "execution_count": null,
   "id": "af6a51de",
   "metadata": {},
   "outputs": [],
   "source": []
  }
 ],
 "metadata": {
  "kernelspec": {
   "display_name": "Python 3 (ipykernel)",
   "language": "python",
   "name": "python3"
  },
  "language_info": {
   "codemirror_mode": {
    "name": "ipython",
    "version": 3
   },
   "file_extension": ".py",
   "mimetype": "text/x-python",
   "name": "python",
   "nbconvert_exporter": "python",
   "pygments_lexer": "ipython3",
   "version": "3.11.3"
  }
 },
 "nbformat": 4,
 "nbformat_minor": 5
}
